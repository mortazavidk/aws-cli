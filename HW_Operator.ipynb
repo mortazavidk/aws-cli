{
  "nbformat": 4,
  "nbformat_minor": 0,
  "metadata": {
    "colab": {
      "name": "HW_Operator.ipynb",
      "provenance": [],
      "collapsed_sections": [],
      "include_colab_link": true
    },
    "kernelspec": {
      "name": "python3",
      "display_name": "Python 3"
    }
  },
  "cells": [
    {
      "cell_type": "markdown",
      "metadata": {
        "id": "view-in-github",
        "colab_type": "text"
      },
      "source": [
        "<a href=\"https://colab.research.google.com/github/mortazavidk/aws-cli/blob/master/HW_Operator.ipynb\" target=\"_parent\"><img src=\"https://colab.research.google.com/assets/colab-badge.svg\" alt=\"Open In Colab\"/></a>"
      ]
    },
    {
      "cell_type": "code",
      "metadata": {
        "id": "DAJR_LF5AcEB"
      },
      "source": [
        "# Visit https://www.w3schools.com/python/python_operators.asp \n",
        "# Read  Python Comparison Operators and Python Logical Operators sections\n",
        "# Write the following two programs"
      ],
      "execution_count": null,
      "outputs": []
    },
    {
      "cell_type": "code",
      "metadata": {
        "id": "C3ceN2bBGTGc"
      },
      "source": [
        "# Get six values Name1,Age1,Name2,Age2,Name3,Age3 from keyboard (Use appropriate messages). \n",
        "# Pass them to a fuction named youngestPerson.\n",
        "# Function should find and return youngest person.\n",
        "# Print on screen the name and age of the youngest person. "
      ],
      "execution_count": null,
      "outputs": []
    },
    {
      "cell_type": "code",
      "metadata": {
        "id": "xsS8507CEUp3"
      },
      "source": [
        "# Get six values Name1,Age1,Name2,Age2,Name3,Age3 from keyboard (Use appropriate messages). \n",
        "# Pass them to a fuction named eldestPerson.\n",
        "# Function should find and return eldest person.\n",
        "# Print on screen the name and age of the eldest person."
      ],
      "execution_count": null,
      "outputs": []
    },
    {
      "cell_type": "code",
      "metadata": {
        "id": "lmw7ZuoDFFVd"
      },
      "source": [
        "# Visit https://www.w3schools.com/python/python_operators.asp \n",
        "# Read  Python Assignment Operators section\n",
        "# Write the following program "
      ],
      "execution_count": null,
      "outputs": []
    },
    {
      "cell_type": "code",
      "metadata": {
        "id": "3hiiAhjPHTdS"
      },
      "source": [
        "# Get a value x from keyboard (Use appropriate messages). \n",
        "# Pass them to a fuction named equationSolver.\n",
        "# Function should calculate the value y using the following formula and return it.\n",
        "# y**=(x/3)+(x^3)+(x>>3)+(x<<3)   Tip: define the variable y inside the function and assign 1 to it.\n",
        "# Print on screen the x and y values (Use appropriate messages)."
      ],
      "execution_count": null,
      "outputs": []
    },
    {
      "cell_type": "code",
      "metadata": {
        "id": "yyi_erisJ_Ja"
      },
      "source": [
        "# Write a program to:\n",
        "# Get two values userName and password from keyboard (Use appropriate messages).\n",
        "# Pass them to a function named loginCheck.\n",
        "# Function should check the userName and password to make sure that:\n",
        "# If the userName is BitaLida and the password is 1234 then return true otherwise return false.\n",
        "# If the return value is true print on screen \"Access Granted\".\n",
        "# If the return value is false print on screen \"Access Denied\". \n"
      ],
      "execution_count": null,
      "outputs": []
    },
    {
      "cell_type": "code",
      "metadata": {
        "id": "8NPirDrz0D4A",
        "colab": {
          "base_uri": "https://localhost:8080/",
          "height": 129
        },
        "outputId": "83c828ff-22ae-455c-e715-6c71ca99ae57"
      },
      "source": [
        "\n",
        "\n",
        "print (\"Please enter Name 1:\")\n",
        "  Name1=str(input()) \n",
        "print (\"Please enter Age 1:\")\n",
        "  Age1=int(input()) \n",
        "print (\"Please enter Name 2:\")\n",
        "  Name2=str(input()) \n",
        "print (\"Please enter Age 2:\")\n",
        "  Age2=int(input()) \n",
        "print (\"Please enter Name 3:\")\n",
        "  Name3=str(input()) \n",
        "print (\"Please enter Age 3:\")\n",
        "  Age3=int(input()) \n",
        "if Age1<Age2 and Age1<Age3:\n",
        "  print (\"The youngest person is:\")\n",
        " print (Name1)\n",
        "if  Age2<Age3 and Age2<Age1:\n",
        "  print (\"The youngest person is:\")\n",
        " print (Name2)\n",
        "if Age3<Age2 and Age3<Age1:\n",
        "  print (\"The youngest person is:\")\n",
        " print (Name3)\n"
      ],
      "execution_count": null,
      "outputs": [
        {
          "output_type": "error",
          "ename": "IndentationError",
          "evalue": "ignored",
          "traceback": [
            "\u001b[0;36m  File \u001b[0;32m\"<ipython-input-3-cbc1fe2e70b5>\"\u001b[0;36m, line \u001b[0;32m4\u001b[0m\n\u001b[0;31m    Name1=str(input)\u001b[0m\n\u001b[0m    ^\u001b[0m\n\u001b[0;31mIndentationError\u001b[0m\u001b[0;31m:\u001b[0m unexpected indent\n"
          ]
        }
      ]
    },
    {
      "cell_type": "code",
      "metadata": {
        "id": "0ihppe3eJQJj"
      },
      "source": [
        "print (\"Please enter Name 1:\")\n",
        "  Name1= str(input()) \n",
        "print (\"Please enter Age 1:\")\n",
        "  Age1=int(input()) \n",
        "print (\"Please enter Name 2:\")\n",
        "  Name2=str(input()) \n",
        "print (\"Please enter Age 2:\")\n",
        "  Age2=int(input()) \n",
        "print (\"Please enter Name 3:\")\n",
        "  Name3=str(input()) \n",
        "print (\"Please enter Age 3:\")\n",
        "  Age3=int(input()) \n",
        "if Age1>Age2 and Age1>Age3:\n",
        "  print (\"The eldest person is:\")\n",
        " print (Name1)\n",
        "if Age2>Age1 and Age2>Age3:\n",
        "  print (\"The eldest person is:\")\n",
        " print (Name2)\n",
        "if Age3>Age2 and Age3>Age1:\n",
        "  print (\"The eldest person is:\")\n",
        " print (Name3)\n"
      ],
      "execution_count": null,
      "outputs": []
    },
    {
      "cell_type": "code",
      "metadata": {
        "id": "V137r-GZJqqg",
        "colab": {
          "base_uri": "https://localhost:8080/",
          "height": 85
        },
        "outputId": "f67e5dc7-aaf2-42c8-f151-f3710b8524ed"
      },
      "source": [
        "def cal_y(x,y):\n",
        " y=(x/3)+(x^3)+(x>>3)+(x<<3)\n",
        "print (\"Please enter value of x:\")\n",
        "x=int(input())\n",
        "y=cal_y \n",
        "print (\"The value of y is:\")\n",
        "print (cal_y)"
      ],
      "execution_count": null,
      "outputs": [
        {
          "output_type": "stream",
          "text": [
            "Please enter value of x:\n",
            "5\n",
            "The value of y is:\n",
            "<function cal_y at 0x7ff2969e9f28>\n"
          ],
          "name": "stdout"
        }
      ]
    },
    {
      "cell_type": "code",
      "metadata": {
        "id": "wU2qhjD42SD2",
        "colab": {
          "base_uri": "https://localhost:8080/",
          "height": 128
        },
        "outputId": "8d912e6a-1eed-40ca-d69e-e2a67b1c6e71"
      },
      "source": [
        "print (\"Please enter your username:\")\n",
        "username=str(input())\n",
        "print (\"Please enter your password:\")\n",
        "password=int(input()) \n",
        "if username==\"Bitalida\":\n",
        "  print(\"username access:granted😁👍\")\n",
        "elif username!=\"Bitalida\":\n",
        "  print(\"username access:denied😥👎\")\n",
        "  if password==1234:\n",
        "   print ( \"username access:granted😁👍\")\n",
        "elif: \n",
        "  print(\"username access:denied😥👎\")\n",
        "   "
      ],
      "execution_count": null,
      "outputs": [
        {
          "output_type": "error",
          "ename": "SyntaxError",
          "evalue": "ignored",
          "traceback": [
            "\u001b[0;36m  File \u001b[0;32m\"<ipython-input-5-d063ab4c52a8>\"\u001b[0;36m, line \u001b[0;32m11\u001b[0m\n\u001b[0;31m    elif :\u001b[0m\n\u001b[0m         ^\u001b[0m\n\u001b[0;31mSyntaxError\u001b[0m\u001b[0;31m:\u001b[0m invalid syntax\n"
          ]
        }
      ]
    }
  ]
}